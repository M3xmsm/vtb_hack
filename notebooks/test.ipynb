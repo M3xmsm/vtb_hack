{
 "cells": [
  {
   "cell_type": "code",
   "execution_count": null,
   "id": "26d60668",
   "metadata": {},
   "outputs": [],
   "source": [
    "\n",
    "session_name = 'ksetherg'"
   ]
  },
  {
   "cell_type": "code",
   "execution_count": null,
   "id": "97afce55",
   "metadata": {},
   "outputs": [],
   "source": [
    "from telethon.sync import TelegramClient\n",
    "from telethon import connection\n",
    "import json\n",
    "from datetime import datetime, timezone"
   ]
  },
  {
   "cell_type": "code",
   "execution_count": null,
   "id": "a3ddec32",
   "metadata": {},
   "outputs": [],
   "source": [
    "from telethon.tl.functions.channels import GetParticipantsRequest\n",
    "from telethon.tl.types import ChannelParticipantsSearch\n",
    "from telethon.tl.functions.messages import GetHistoryRequest"
   ]
  },
  {
   "cell_type": "code",
   "execution_count": null,
   "id": "3738bbae",
   "metadata": {},
   "outputs": [],
   "source": [
    "client = TelegramClient(session_name, api_id, api_hash)\n",
    "client.start()"
   ]
  },
  {
   "cell_type": "code",
   "execution_count": null,
   "id": "28287b86",
   "metadata": {},
   "outputs": [],
   "source": [
    "client.connect()"
   ]
  },
  {
   "cell_type": "code",
   "execution_count": null,
   "id": "1d6991d7",
   "metadata": {},
   "outputs": [],
   "source": [
    "async def get_messages(\n",
    "    tg_client: TelegramClient,\n",
    "    channel_link: str,\n",
    "    batch_size=100, \n",
    "    from_date=datetime(2022, 9, 1, tzinfo=timezone.utc)\n",
    "):\n",
    "    offset_id = 0\n",
    "    all_messages = []\n",
    "    async with tg_client:\n",
    "        channel = await tg_client.get_entity(channel_link)\n",
    "        while True:\n",
    "            messages_iterator = tg_client.iter_messages(channel, offset_date=from_date, offset_id=offset_id, limit=batch_size, reverse=True)\n",
    "            messages = [m.to_dict() async for m in messages_iterator]\n",
    "            if not messages:\n",
    "                break\n",
    "            print(f\"Parsed from {messages[0]['id']}, to {messages[-1]['id']}\")\n",
    "            offset_id = messages[-1]['id']\n",
    "            all_messages += messages\n",
    "    return all_messages"
   ]
  },
  {
   "cell_type": "code",
   "execution_count": null,
   "id": "1f03f142",
   "metadata": {},
   "outputs": [],
   "source": [
    "mm = await get_messages(client, 'https://t.me/hh_vacancy_development')"
   ]
  },
  {
   "cell_type": "code",
   "execution_count": null,
   "id": "de631d65",
   "metadata": {},
   "outputs": [],
   "source": [
    "len(mm)"
   ]
  },
  {
   "cell_type": "code",
   "execution_count": null,
   "id": "67435883",
   "metadata": {},
   "outputs": [],
   "source": [
    "print(mm[0]['message'])"
   ]
  },
  {
   "cell_type": "code",
   "execution_count": null,
   "id": "681b1cf9",
   "metadata": {},
   "outputs": [],
   "source": []
  },
  {
   "cell_type": "code",
   "execution_count": null,
   "id": "d399ce18",
   "metadata": {},
   "outputs": [],
   "source": []
  },
  {
   "cell_type": "code",
   "execution_count": null,
   "id": "a003a513",
   "metadata": {},
   "outputs": [],
   "source": []
  },
  {
   "cell_type": "code",
   "execution_count": null,
   "id": "298b4cd8",
   "metadata": {},
   "outputs": [],
   "source": []
  },
  {
   "cell_type": "code",
   "execution_count": null,
   "id": "50c6a944",
   "metadata": {},
   "outputs": [],
   "source": [
    "from clickhouse_driver import Client"
   ]
  },
  {
   "cell_type": "code",
   "execution_count": null,
   "id": "07980548",
   "metadata": {},
   "outputs": [],
   "source": [
    "ch_client = Client(\n",
    "    host='rc1a-b425jm4ulkoxruwo.mdb.yandexcloud.net',\n",
    "    user='user',\n",
    "    password='q1w2e3r4',\n",
    "    ca_certs='../YandexCA.pem',\n",
    "    port=9440,\n",
    "    secure=True,\n",
    ")"
   ]
  },
  {
   "cell_type": "code",
   "execution_count": null,
   "id": "cfb4d240",
   "metadata": {},
   "outputs": [],
   "source": [
    "ch_client.execute('SELECT 1')"
   ]
  },
  {
   "cell_type": "code",
   "execution_count": null,
   "id": "6fa01e08",
   "metadata": {},
   "outputs": [],
   "source": []
  }
 ],
 "metadata": {
  "kernelspec": {
   "display_name": "Python 3 (ipykernel)",
   "language": "python",
   "name": "python3"
  },
  "language_info": {
   "codemirror_mode": {
    "name": "ipython",
    "version": 3
   },
   "file_extension": ".py",
   "mimetype": "text/x-python",
   "name": "python",
   "nbconvert_exporter": "python",
   "pygments_lexer": "ipython3",
   "version": "3.9.6"
  }
 },
 "nbformat": 4,
 "nbformat_minor": 5
}
